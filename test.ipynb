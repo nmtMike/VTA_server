{
 "cells": [
  {
   "cell_type": "code",
   "execution_count": 1,
   "metadata": {},
   "outputs": [],
   "source": [
    "import pandas as pd\n",
    "import sqlite3\n",
    "\n",
    "conn = sqlite3.connect(r\"C:\\Users\\VTA-HAN\\Desktop\\VTA\\VTA_RM.db\")\n",
    "c = conn.cursor()"
   ]
  },
  {
   "cell_type": "code",
   "execution_count": 2,
   "metadata": {},
   "outputs": [],
   "source": [
    "from sqlalchemy.orm import Session\n",
    "from sqlalchemy import create_engine\n",
    "from sqlalchemy.engine import URL\n",
    "\n",
    "url_object = URL.create(\n",
    "    \"postgresql\",\n",
    "    username=\"vta\",\n",
    "    password=\"vta\",\n",
    "    host=\"localhost\",\n",
    "    port=\"5432\",\n",
    "    database=\"vtadb\")\n",
    "engine = create_engine(url_object)\n",
    "\n",
    "session = Session(engine)"
   ]
  },
  {
   "cell_type": "code",
   "execution_count": 3,
   "metadata": {},
   "outputs": [
    {
     "data": {
      "text/plain": [
       "450"
      ]
     },
     "execution_count": 3,
     "metadata": {},
     "output_type": "execute_result"
    }
   ],
   "source": [
    "query = \"\"\"\n",
    "SELECT *\n",
    "    FROM log_table\n",
    "\"\"\"\n",
    "\n",
    "pd.read_sql_query(query, conn).to_sql('log_table', engine, if_exists='replace')"
   ]
  },
  {
   "cell_type": "code",
   "execution_count": 5,
   "metadata": {},
   "outputs": [],
   "source": [
    "query = \"\"\"\n",
    "SELECT *\n",
    "\tFROM exchange_rate\n",
    "\"\"\"\n",
    "pd.read_sql_query(query, conn).to_csv('exrate.csv', index=False)"
   ]
  },
  {
   "cell_type": "code",
   "execution_count": null,
   "metadata": {},
   "outputs": [],
   "source": [
    "query = \"\"\"\n",
    "SELECT from_airport || to_airport AS sector,\n",
    "\t\tSTRFTIME('%Y-%m-%d', depart_date) AS departure_date,\n",
    "\t\tSTRFTIME('%Y-%m-%d', reservation_book_date) AS book_date,\n",
    "\t\tSUM(CASE \n",
    "\t\t\tWHEN res_seg_status_descr = 'CANCELED' OR ptc = 'INF' THEN 0\n",
    "\t\t\tELSE 1\n",
    "\t\tEND) AS counting\n",
    "\tFROM reservation_segment_detail\n",
    "\tWHERE from_airport IS NOT NULL\n",
    "\tGROUP BY from_airport, to_airport, STRFTIME('%Y-%m-%d', depart_date), STRFTIME('%Y-%m-%d', reservation_book_date)\n",
    "\n",
    "\"\"\"\n",
    "\n",
    "df = pd.read_sql_query(query, conn)\n",
    "df.to_csv('res_ve_tet.csv', index=False)"
   ]
  },
  {
   "cell_type": "code",
   "execution_count": null,
   "metadata": {},
   "outputs": [],
   "source": [
    "query = \"\"\"\n",
    "SELECT dep_station || arr_station AS sector,\n",
    "\t\tSTRFTIME('%Y-%m-%d', Flight_Origin_Date_LT) AS departure_date,\n",
    "\t\tSUM(SUBSTRING(config, -3)*1) AS capacity,\n",
    "\t\tCOUNT(*) AS frequency \n",
    "\tFROM flown_aircraft_leg\n",
    "\tWHERE Flight_Origin_Date_LT >= '2023-01-06' AND Flight_Origin_Date_LT <= '2023-02-06'\n",
    "\t\tAND flight_status IN ('OPEN', 'CLOSED')\n",
    "\tGROUP BY dep_station, arr_station, STRFTIME('%Y-%m-%d', Flight_Origin_Date_LT)\n",
    "\"\"\"\n",
    "\n",
    "df = pd.read_sql_query(query, conn)\n",
    "df.to_csv('leg_tet.csv', index=False)"
   ]
  },
  {
   "cell_type": "code",
   "execution_count": 4,
   "metadata": {},
   "outputs": [],
   "source": [
    "query = \"\"\"\n",
    "WITH \n",
    "range_date AS (\n",
    "SELECT STRFTIME('%Y-%m-%d', Date) AS range_date \n",
    "\tFROM dim_calendar\n",
    "\tWHERE (lunar_date BETWEEN '2022_12_15' AND '2023_01_15')\n",
    "\t\tOR (lunar_date BETWEEN '2021_12_15' AND '2022_01_15')),\n",
    "\t\t\n",
    "regular_flight AS (\n",
    "SELECT flight_num\n",
    "\tFROM flight_type\n",
    "\tWHERE flight_type = 'REGULAR')\n",
    "\n",
    "SELECT \tfrom_airport || to_airport AS sector,\n",
    "\t\tSTRFTIME('%Y-%m-%d', depart_date) AS departure_date,\n",
    "\t\tSTRFTIME('%Y-%m-%d', reservation_book_date) AS book_date,\n",
    "\t\tSUM(CASE \n",
    "\t\t\tWHEN res_seg_status_descr = 'CANCELED' OR ptc = 'INF' THEN 0\n",
    "\t\t\tELSE 1\n",
    "\t\tEND) AS counting\n",
    "\tFROM reservation_segment_detail r\n",
    "\tWHERE from_airport IS NOT NULL\n",
    "\t\tAND (STRFTIME('%Y-%m-%d', depart_date) IN (SELECT range_date FROM range_date))\n",
    "\t\tAND (r.operating_flight_num IN (SELECT flight_num FROM regular_flight))\n",
    "\tGROUP BY from_airport, to_airport, STRFTIME('%Y-%m-%d', depart_date), STRFTIME('%Y-%m-%d', reservation_book_date)\n",
    "\n",
    "\"\"\"\n",
    "\n",
    "df = pd.read_sql_query(query, conn)\n",
    "df.to_csv('res_ve_tet_2.csv', index=False)"
   ]
  },
  {
   "cell_type": "code",
   "execution_count": 11,
   "metadata": {},
   "outputs": [
    {
     "data": {
      "text/html": [
       "<div>\n",
       "<style scoped>\n",
       "    .dataframe tbody tr th:only-of-type {\n",
       "        vertical-align: middle;\n",
       "    }\n",
       "\n",
       "    .dataframe tbody tr th {\n",
       "        vertical-align: top;\n",
       "    }\n",
       "\n",
       "    .dataframe thead th {\n",
       "        text-align: right;\n",
       "    }\n",
       "</style>\n",
       "<table border=\"1\" class=\"dataframe\">\n",
       "  <thead>\n",
       "    <tr style=\"text-align: right;\">\n",
       "      <th></th>\n",
       "      <th>refresh_datetime</th>\n",
       "    </tr>\n",
       "  </thead>\n",
       "  <tbody>\n",
       "    <tr>\n",
       "      <th>0</th>\n",
       "      <td>2023-01-30 10:55:51.117916</td>\n",
       "    </tr>\n",
       "  </tbody>\n",
       "</table>\n",
       "</div>"
      ],
      "text/plain": [
       "            refresh_datetime\n",
       "0 2023-01-30 10:55:51.117916"
      ]
     },
     "execution_count": 11,
     "metadata": {},
     "output_type": "execute_result"
    }
   ],
   "source": [
    "pd.DataFrame({'refresh_datetime':[pd.Timestamp.now()]})"
   ]
  }
 ],
 "metadata": {
  "kernelspec": {
   "display_name": "Python 3.9.12 ('VTA_RM_env')",
   "language": "python",
   "name": "python3"
  },
  "language_info": {
   "codemirror_mode": {
    "name": "ipython",
    "version": 3
   },
   "file_extension": ".py",
   "mimetype": "text/x-python",
   "name": "python",
   "nbconvert_exporter": "python",
   "pygments_lexer": "ipython3",
   "version": "3.9.12"
  },
  "orig_nbformat": 4,
  "vscode": {
   "interpreter": {
    "hash": "6adb8717c4d0a5bbc833609db47a0d4a022aa11119d5859c7607f3701f1e243a"
   }
  }
 },
 "nbformat": 4,
 "nbformat_minor": 2
}
