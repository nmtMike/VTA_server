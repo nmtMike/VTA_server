{
 "cells": [
  {
   "cell_type": "code",
   "execution_count": 3,
   "metadata": {},
   "outputs": [],
   "source": [
    "# import necessary materials\n",
    "import sqlite3\n",
    "import pandas as pd\n",
    "import glob\n",
    "import os\n",
    "from tqdm import tqdm\n",
    "import datetime\n",
    "from datetime import timedelta\n",
    "\n",
    "\n",
    "conn = sqlite3.connect(r\"D:\\NMT\\OneDrive\\Viettravel Airline\\Database\\VTA_RM_test.db\")\n",
    "c = conn.cursor()\n",
    "\n",
    "pd.options.mode.chained_assignment = None\n",
    "\n",
    "def file_name_modified(path:str):\n",
    "    all_dir_files = glob.glob(path + '/*')\n",
    "    m_time = []\n",
    "\n",
    "    for dir_file in all_dir_files:\n",
    "        # file modification timestamp of a file\n",
    "        f_m_time = os.path.getmtime(dir_file)\n",
    "        # convert timestamp into DateTime object\n",
    "        f_dt_m = datetime.datetime.fromtimestamp(f_m_time)\n",
    "        m_time += [f_dt_m]\n",
    "\n",
    "    files_name = pd.Series(all_dir_files).str.split('\\\\', expand=True).iloc[:, -1]\n",
    "    table_name = pd.Series(all_dir_files).str.split('\\\\', expand=True).iloc[:, -2]\n",
    "    return pd.DataFrame({'file_name':files_name, 'modified_time':m_time,\n",
    "                         'table_name':table_name, 'dir_file':all_dir_files})\n",
    "\n",
    "# create connection to sqlite\n",
    "\n",
    "cargo = r'D:\\NMT\\OneDrive\\Viettravel Airline\\Database\\fact\\cargo'\n",
    "flown_aircraft_leg = r'D:\\NMT\\OneDrive\\Viettravel Airline\\Database\\fact\\flown_aircraft_leg'\n",
    "inflow_cash = r'D:\\NMT\\OneDrive\\Viettravel Airline\\Database\\fact\\inflow_cash'\n",
    "pax_revenue = r'D:\\NMT\\OneDrive\\Viettravel Airline\\Database\\fact\\pax_revenue'\n",
    "payment_detail = r'D:\\NMT\\OneDrive\\Viettravel Airline\\Database\\fact\\payment_detail'\n",
    "reservation = r'D:\\NMT\\OneDrive\\Viettravel Airline\\Database\\fact\\reservation'\n",
    "transaction = r'D:\\NMT\\OneDrive\\Viettravel Airline\\Database\\fact\\pax_transaction'\n",
    "exchange_rate = r'D:\\NMT\\OneDrive\\Viettravel Airline\\Database\\dim\\exchange_rate'\n",
    "\n",
    "dim_agent = r'D:\\NMT\\OneDrive\\Viettravel Airline\\Database\\dim\\dim_agent'\n",
    "dim_calendar = r'D:\\NMT\\OneDrive\\Viettravel Airline\\Database\\dim\\dim_calendar'\n",
    "dim_fare_code = r'D:\\NMT\\OneDrive\\Viettravel Airline\\Database\\dim\\dim_fare_code'\n",
    "dim_routes = r'D:\\NMT\\OneDrive\\Viettravel Airline\\Database\\dim\\dim_routes'\n",
    "dim_slot_time = r'D:\\NMT\\OneDrive\\Viettravel Airline\\Database\\dim\\dim_slot_time'\n",
    "flight_type = r'D:\\NMT\\OneDrive\\Viettravel Airline\\Database\\dim\\flight_type'\n",
    "\n",
    "\n",
    "dir_list = [cargo, flown_aircraft_leg, inflow_cash, pax_revenue, payment_detail, reservation, exchange_rate, \n",
    "        dim_agent, dim_calendar, dim_routes, dim_fare_code, dim_slot_time, flight_type, transaction]\n",
    "frame_list = []\n",
    "\n",
    "for dir_x in dir_list:\n",
    "    frame_list.append(file_name_modified(dir_x))\n",
    "\n",
    "new_log_table = pd.concat(frame_list, axis=0, ignore_index=True)\n",
    "\n",
    "query = \"\"\"\n",
    "SELECT *\n",
    "    FROM log_table\n",
    "\"\"\"\n",
    "\n",
    "previous_log_table = pd.read_sql_query(query, conn)\n",
    "previous_log_table['modified_time'] = pd.to_datetime(previous_log_table['modified_time'])\n",
    "\n",
    "diff_table = pd.concat([previous_log_table, new_log_table]).drop_duplicates(ignore_index=True, keep=False)\n",
    "keep_table = pd.concat([previous_log_table, diff_table, diff_table]).drop_duplicates(ignore_index=True, keep=False)\n",
    "remove_table = pd.concat([previous_log_table, keep_table]).drop_duplicates(ignore_index=True, keep=False)\n",
    "add_table = pd.concat([new_log_table, keep_table]).drop_duplicates(ignore_index=True, keep=False)"
   ]
  },
  {
   "cell_type": "code",
   "execution_count": 18,
   "metadata": {},
   "outputs": [],
   "source": [
    "from pandas.tseries.offsets import MonthEnd"
   ]
  },
  {
   "cell_type": "code",
   "execution_count": 59,
   "metadata": {},
   "outputs": [],
   "source": [
    "exrate = pd.read_excel(r'D:\\NMT\\OneDrive\\Viettravel Airline\\Database\\dim\\exchange_rate\\exchange_rate.xlsx')\n",
    "exrate['Buy_in_cash'].replace('-', 0, inplace=True)"
   ]
  },
  {
   "cell_type": "code",
   "execution_count": 62,
   "metadata": {},
   "outputs": [],
   "source": [
    "date_index = pd.date_range(start=exrate['Valid_date'].min(), end=exrate['Valid_date'].max() + MonthEnd(0))\n",
    "curr_code = exrate['Code'].unique()\n",
    "new_index = pd.MultiIndex.from_product([date_index, curr_code], names=['Valid_date', 'Code'])\n",
    "exrate_new = exrate.set_index(['Valid_date', 'Code'])\n",
    "exrate_new = exrate_new.reindex(new_index).reset_index().sort_values(by=['Code', 'Valid_date']).fillna(method='ffill').reset_index(drop=True)\n",
    "# exrate_new.to_excel('test.xlsx', index=False)"
   ]
  },
  {
   "cell_type": "code",
   "execution_count": 65,
   "metadata": {},
   "outputs": [],
   "source": [
    "import datetime"
   ]
  },
  {
   "cell_type": "code",
   "execution_count": 78,
   "metadata": {},
   "outputs": [
    {
     "data": {
      "text/plain": [
       "'20221101.134135'"
      ]
     },
     "execution_count": 78,
     "metadata": {},
     "output_type": "execute_result"
    }
   ],
   "source": [
    "datetime.datetime.now().strftime('%Y%m%d.%H%M%S')"
   ]
  }
 ],
 "metadata": {
  "kernelspec": {
   "display_name": "Python 3.9.12 ('VTA_RM')",
   "language": "python",
   "name": "python3"
  },
  "language_info": {
   "codemirror_mode": {
    "name": "ipython",
    "version": 3
   },
   "file_extension": ".py",
   "mimetype": "text/x-python",
   "name": "python",
   "nbconvert_exporter": "python",
   "pygments_lexer": "ipython3",
   "version": "3.9.12"
  },
  "orig_nbformat": 4,
  "vscode": {
   "interpreter": {
    "hash": "4b9e384aec62ae57b5f76b26318facd26f7d8e2315f3809fc741dc47f714fdba"
   }
  }
 },
 "nbformat": 4,
 "nbformat_minor": 2
}
