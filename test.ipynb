{
 "cells": [
  {
   "cell_type": "code",
   "execution_count": 30,
   "metadata": {},
   "outputs": [],
   "source": [
    "import pandas as pd\n",
    "import numpy as np"
   ]
  },
  {
   "cell_type": "code",
   "execution_count": 2,
   "metadata": {},
   "outputs": [],
   "source": [
    "a = []"
   ]
  },
  {
   "cell_type": "code",
   "execution_count": 4,
   "metadata": {},
   "outputs": [],
   "source": [
    "a.append('No \"Payment details 2\" file need to be added')"
   ]
  },
  {
   "cell_type": "code",
   "execution_count": 10,
   "metadata": {},
   "outputs": [
    {
     "data": {
      "text/html": [
       "<div>\n",
       "<style scoped>\n",
       "    .dataframe tbody tr th:only-of-type {\n",
       "        vertical-align: middle;\n",
       "    }\n",
       "\n",
       "    .dataframe tbody tr th {\n",
       "        vertical-align: top;\n",
       "    }\n",
       "\n",
       "    .dataframe thead th {\n",
       "        text-align: right;\n",
       "    }\n",
       "</style>\n",
       "<table border=\"1\" class=\"dataframe\">\n",
       "  <thead>\n",
       "    <tr style=\"text-align: right;\">\n",
       "      <th></th>\n",
       "      <th>log</th>\n",
       "    </tr>\n",
       "  </thead>\n",
       "  <tbody>\n",
       "    <tr>\n",
       "      <th>0</th>\n",
       "      <td>No \"Payment details\" file need to be added</td>\n",
       "    </tr>\n",
       "    <tr>\n",
       "      <th>1</th>\n",
       "      <td>No \"Payment details 2\" file need to be added</td>\n",
       "    </tr>\n",
       "  </tbody>\n",
       "</table>\n",
       "</div>"
      ],
      "text/plain": [
       "                                            log\n",
       "0    No \"Payment details\" file need to be added\n",
       "1  No \"Payment details 2\" file need to be added"
      ]
     },
     "execution_count": 10,
     "metadata": {},
     "output_type": "execute_result"
    }
   ],
   "source": [
    "pd.DataFrame(a, columns=['log'])"
   ]
  },
  {
   "cell_type": "code",
   "execution_count": 18,
   "metadata": {},
   "outputs": [],
   "source": [
    "a.append(pd.Timestamp.now())"
   ]
  },
  {
   "cell_type": "code",
   "execution_count": 32,
   "metadata": {},
   "outputs": [
    {
     "data": {
      "text/plain": [
       "Timestamp('2022-10-27 16:02:11.672543')"
      ]
     },
     "execution_count": 32,
     "metadata": {},
     "output_type": "execute_result"
    }
   ],
   "source": [
    "pd.Timestamp.now()"
   ]
  },
  {
   "cell_type": "code",
   "execution_count": 23,
   "metadata": {},
   "outputs": [],
   "source": [
    "b= [['payment', pd.Timestamp.now()]]"
   ]
  },
  {
   "cell_type": "code",
   "execution_count": 25,
   "metadata": {},
   "outputs": [],
   "source": [
    "b.append(['dim_agent', pd.Timestamp.now()])"
   ]
  },
  {
   "cell_type": "code",
   "execution_count": 33,
   "metadata": {},
   "outputs": [],
   "source": [
    "test = pd.DataFrame(b, columns=['table', 'time_updated'])"
   ]
  },
  {
   "cell_type": "code",
   "execution_count": 37,
   "metadata": {},
   "outputs": [
    {
     "data": {
      "text/plain": [
       "0   2022-10-27 15:58:48.452994\n",
       "1   2022-10-27 15:59:06.816978\n",
       "2   2022-10-27 15:59:13.417844\n",
       "Name: time_updated, dtype: datetime64[ns]"
      ]
     },
     "execution_count": 37,
     "metadata": {},
     "output_type": "execute_result"
    }
   ],
   "source": [
    "test['time_updated']"
   ]
  },
  {
   "cell_type": "code",
   "execution_count": 44,
   "metadata": {},
   "outputs": [],
   "source": [
    "# import necessary materials\n",
    "import sqlite3\n",
    "import pandas as pd\n",
    "import glob\n",
    "import os\n",
    "from tqdm import tqdm\n",
    "import datetime\n",
    "from datetime import timedelta\n",
    "pd.options.mode.chained_assignment = None\n",
    "\n",
    "def file_name_modified(path:str):\n",
    "    all_dir_files = glob.glob(path + '/*')\n",
    "    m_time = []\n",
    "\n",
    "    for dir_file in all_dir_files:\n",
    "\n",
    "        # file modification timestamp of a file\n",
    "        f_m_time = os.path.getmtime(dir_file)\n",
    "        # convert timestamp into DateTime object\n",
    "        f_dt_m = datetime.datetime.fromtimestamp(f_m_time)\n",
    "        m_time += [f_dt_m]\n",
    "\n",
    "    files_name = pd.Series(all_dir_files).str.split('\\\\', expand=True).iloc[:, -1]\n",
    "    table_name = pd.Series(all_dir_files).str.split('\\\\', expand=True).iloc[:, -2]\n",
    "    return pd.DataFrame({'file_name':files_name, 'modified_time':m_time,\n",
    "                         'table_name':table_name, 'dir_file':all_dir_files})\n",
    "\n",
    "# create connection to sqlite\n",
    "conn = sqlite3.connect(r\"D:\\NMT\\OneDrive\\Viettravel Airline\\Database\\VTA_RM.db\")\n",
    "c = conn.cursor()\n",
    "warining_msg = '*****WARNING***** cannot add new rows to SQLite'\n",
    "\n",
    "\n",
    "cargo = r'D:\\NMT\\OneDrive\\Viettravel Airline\\Database\\fact\\cargo'\n",
    "flown_aircraft_leg = r'D:\\NMT\\OneDrive\\Viettravel Airline\\Database\\fact\\flown_aircraft_leg'\n",
    "inflow_cash = r'D:\\NMT\\OneDrive\\Viettravel Airline\\Database\\fact\\inflow_cash'\n",
    "pax_revenue = r'D:\\NMT\\OneDrive\\Viettravel Airline\\Database\\fact\\pax_revenue'\n",
    "payment_detail = r'D:\\NMT\\OneDrive\\Viettravel Airline\\Database\\fact\\payment_detail'\n",
    "reservation = r'D:\\NMT\\OneDrive\\Viettravel Airline\\Database\\fact\\reservation'\n",
    "\n",
    "dim_agent = r'D:\\NMT\\OneDrive\\Viettravel Airline\\Database\\dim\\dim_agent'\n",
    "dim_calendar = r'D:\\NMT\\OneDrive\\Viettravel Airline\\Database\\dim\\dim_calendar'\n",
    "dim_fare_code = r'D:\\NMT\\OneDrive\\Viettravel Airline\\Database\\dim\\dim_fare_code'\n",
    "dim_routes = r'D:\\NMT\\OneDrive\\Viettravel Airline\\Database\\dim\\dim_routes'\n",
    "dim_slot_time = r'D:\\NMT\\OneDrive\\Viettravel Airline\\Database\\dim\\dim_slot_time'\n",
    "flight_type = r'D:\\NMT\\OneDrive\\Viettravel Airline\\Database\\dim\\flight_type'\n",
    "\n",
    "\n",
    "dir_list = [cargo, flown_aircraft_leg, inflow_cash, pax_revenue, payment_detail, reservation,\n",
    "        dim_agent, dim_calendar, dim_routes, dim_fare_code, dim_slot_time, flight_type]\n",
    "frame_list = []\n",
    "\n",
    "for dir_x in dir_list:\n",
    "    frame_list.append(file_name_modified(dir_x))\n",
    "\n",
    "new_log_table = pd.concat(frame_list, axis=0, ignore_index=True)\n",
    "\n",
    "query = \"\"\"\n",
    "SELECT *\n",
    "    FROM log_table\n",
    "\"\"\"\n",
    "\n",
    "previous_log_table = pd.read_sql_query(query, conn)\n",
    "previous_log_table['modified_time'] = pd.to_datetime(previous_log_table['modified_time'])\n",
    "\n",
    "diff_table = pd.concat([previous_log_table, new_log_table]).drop_duplicates(ignore_index=True, keep=False)\n",
    "keep_table = pd.concat([previous_log_table, diff_table, diff_table]).drop_duplicates(ignore_index=True, keep=False)\n",
    "remove_table = pd.concat([previous_log_table, keep_table]).drop_duplicates(ignore_index=True, keep=False)\n",
    "add_table = pd.concat([new_log_table, keep_table]).drop_duplicates(ignore_index=True, keep=False)"
   ]
  },
  {
   "cell_type": "code",
   "execution_count": 49,
   "metadata": {},
   "outputs": [],
   "source": [
    "table = remove_table[remove_table['table_name'] == 'inflow_cash']"
   ]
  },
  {
   "cell_type": "code",
   "execution_count": 53,
   "metadata": {},
   "outputs": [
    {
     "data": {
      "text/plain": [
       "'inflow_cash'"
      ]
     },
     "execution_count": 53,
     "metadata": {},
     "output_type": "execute_result"
    }
   ],
   "source": [
    "table['table_name'].values[0]"
   ]
  }
 ],
 "metadata": {
  "kernelspec": {
   "display_name": "Python 3.9.12 ('VTA_RM')",
   "language": "python",
   "name": "python3"
  },
  "language_info": {
   "codemirror_mode": {
    "name": "ipython",
    "version": 3
   },
   "file_extension": ".py",
   "mimetype": "text/x-python",
   "name": "python",
   "nbconvert_exporter": "python",
   "pygments_lexer": "ipython3",
   "version": "3.9.12"
  },
  "orig_nbformat": 4,
  "vscode": {
   "interpreter": {
    "hash": "4b9e384aec62ae57b5f76b26318facd26f7d8e2315f3809fc741dc47f714fdba"
   }
  }
 },
 "nbformat": 4,
 "nbformat_minor": 2
}
