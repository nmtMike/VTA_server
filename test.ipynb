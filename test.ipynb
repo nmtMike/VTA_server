{
 "cells": [
  {
   "cell_type": "code",
   "execution_count": 1,
   "metadata": {},
   "outputs": [],
   "source": [
    "import pandas as pd\n",
    "import sqlite3\n",
    "\n",
    "conn = sqlite3.connect(r\"C:\\Users\\VTA-HAN\\Desktop\\VTA\\VTA_RM.db\")\n",
    "c = conn.cursor()"
   ]
  },
  {
   "cell_type": "code",
   "execution_count": 7,
   "metadata": {},
   "outputs": [],
   "source": [
    "query = \"\"\"\n",
    "SELECT ori_station || des_station AS sector,\n",
    "\t\tSTRFTIME('%Y-%m-%d', departure_date) AS departure_date,\n",
    "\t\tSTRFTIME('%Y-%m-%d', book_date) AS book_date,\n",
    "\t\tCOUNT(*) AS  counting\n",
    "\tFROM reservation\n",
    "\tWHERE departure_date >= '2023-01-06' AND departure_date <= '2023-02-06'\n",
    "\tGROUP BY ori_station, des_station, STRFTIME('%Y-%m-%d', departure_date), STRFTIME('%Y-%m-%d', book_date)\n",
    "\"\"\"\n",
    "\n",
    "df = pd.read_sql_query(query, conn)\n",
    "df.to_csv('res_ve_tet.csv', index=False)"
   ]
  },
  {
   "cell_type": "code",
   "execution_count": 8,
   "metadata": {},
   "outputs": [],
   "source": [
    "query = \"\"\"\n",
    "SELECT dep_station || arr_station AS sector,\n",
    "\t\tSTRFTIME('%Y-%m-%d', Flight_Origin_Date_LT) AS departure_date,\n",
    "\t\tSUM(SUBSTRING(config, -3)*1) AS capacity,\n",
    "\t\tCOUNT(*) AS frequency \n",
    "\tFROM flown_aircraft_leg\n",
    "\tWHERE Flight_Origin_Date_LT >= '2023-01-06' AND Flight_Origin_Date_LT <= '2023-02-06'\n",
    "\tGROUP BY dep_station, arr_station, STRFTIME('%Y-%m-%d', Flight_Origin_Date_LT)\n",
    "\"\"\"\n",
    "\n",
    "df = pd.read_sql_query(query, conn)\n",
    "df.to_csv('leg_tet.csv', index=False)"
   ]
  },
  {
   "cell_type": "code",
   "execution_count": 6,
   "metadata": {},
   "outputs": [],
   "source": [
    "df = pd.read_excel('ReservationSearch HANBKKHAN.xlsx')"
   ]
  },
  {
   "cell_type": "code",
   "execution_count": 7,
   "metadata": {},
   "outputs": [
    {
     "data": {
      "text/plain": [
       "23381"
      ]
     },
     "execution_count": 7,
     "metadata": {},
     "output_type": "execute_result"
    }
   ],
   "source": [
    "df.to_sql('HANBKK_confirm_temp', conn, if_exists='replace')"
   ]
  }
 ],
 "metadata": {
  "kernelspec": {
   "display_name": "Python 3.9.12 ('VTA_RM_env')",
   "language": "python",
   "name": "python3"
  },
  "language_info": {
   "codemirror_mode": {
    "name": "ipython",
    "version": 3
   },
   "file_extension": ".py",
   "mimetype": "text/x-python",
   "name": "python",
   "nbconvert_exporter": "python",
   "pygments_lexer": "ipython3",
   "version": "3.9.12"
  },
  "orig_nbformat": 4,
  "vscode": {
   "interpreter": {
    "hash": "6adb8717c4d0a5bbc833609db47a0d4a022aa11119d5859c7607f3701f1e243a"
   }
  }
 },
 "nbformat": 4,
 "nbformat_minor": 2
}
