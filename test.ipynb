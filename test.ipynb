{
 "cells": [
  {
   "cell_type": "code",
   "execution_count": 1,
   "metadata": {},
   "outputs": [],
   "source": [
    "# import necessary materials\n",
    "import sqlite3\n",
    "import pandas as pd\n",
    "import glob\n",
    "import os\n",
    "from tqdm import tqdm\n",
    "import datetime\n",
    "from datetime import timedelta\n",
    "\n",
    "\n",
    "conn = sqlite3.connect(r\"D:\\NMT\\OneDrive\\Viettravel Airline\\Database\\VTA_RM_test.db\")\n",
    "c = conn.cursor()\n",
    "\n",
    "pd.options.mode.chained_assignment = None\n",
    "\n",
    "def file_name_modified(path:str):\n",
    "    all_dir_files = glob.glob(path + '/*')\n",
    "    m_time = []\n",
    "\n",
    "    for dir_file in all_dir_files:\n",
    "        # file modification timestamp of a file\n",
    "        f_m_time = os.path.getmtime(dir_file)\n",
    "        # convert timestamp into DateTime object\n",
    "        f_dt_m = datetime.datetime.fromtimestamp(f_m_time)\n",
    "        m_time += [f_dt_m]\n",
    "\n",
    "    files_name = pd.Series(all_dir_files).str.split('\\\\', expand=True).iloc[:, -1]\n",
    "    table_name = pd.Series(all_dir_files).str.split('\\\\', expand=True).iloc[:, -2]\n",
    "    return pd.DataFrame({'file_name':files_name, 'modified_time':m_time,\n",
    "                         'table_name':table_name, 'dir_file':all_dir_files})\n",
    "\n",
    "# create connection to sqlite\n",
    "\n",
    "cargo = r'D:\\NMT\\OneDrive\\Viettravel Airline\\Database\\fact\\cargo'\n",
    "flown_aircraft_leg = r'D:\\NMT\\OneDrive\\Viettravel Airline\\Database\\fact\\flown_aircraft_leg'\n",
    "inflow_cash = r'D:\\NMT\\OneDrive\\Viettravel Airline\\Database\\fact\\inflow_cash'\n",
    "pax_revenue = r'D:\\NMT\\OneDrive\\Viettravel Airline\\Database\\fact\\pax_revenue'\n",
    "payment_detail = r'D:\\NMT\\OneDrive\\Viettravel Airline\\Database\\fact\\payment_detail'\n",
    "reservation = r'D:\\NMT\\OneDrive\\Viettravel Airline\\Database\\fact\\reservation'\n",
    "transaction = r'D:\\NMT\\OneDrive\\Viettravel Airline\\Database\\fact\\pax_transaction'\n",
    "exchange_rate = r'D:\\NMT\\OneDrive\\Viettravel Airline\\Database\\dim\\exchange_rate'\n",
    "\n",
    "dim_agent = r'D:\\NMT\\OneDrive\\Viettravel Airline\\Database\\dim\\dim_agent'\n",
    "dim_calendar = r'D:\\NMT\\OneDrive\\Viettravel Airline\\Database\\dim\\dim_calendar'\n",
    "dim_fare_code = r'D:\\NMT\\OneDrive\\Viettravel Airline\\Database\\dim\\dim_fare_code'\n",
    "dim_routes = r'D:\\NMT\\OneDrive\\Viettravel Airline\\Database\\dim\\dim_routes'\n",
    "dim_slot_time = r'D:\\NMT\\OneDrive\\Viettravel Airline\\Database\\dim\\dim_slot_time'\n",
    "flight_type = r'D:\\NMT\\OneDrive\\Viettravel Airline\\Database\\dim\\flight_type'\n",
    "\n",
    "\n",
    "dir_list = [cargo, flown_aircraft_leg, inflow_cash, pax_revenue, payment_detail, reservation, exchange_rate, \n",
    "        dim_agent, dim_calendar, dim_routes, dim_fare_code, dim_slot_time, flight_type, transaction]\n",
    "frame_list = []\n",
    "\n",
    "for dir_x in dir_list:\n",
    "    frame_list.append(file_name_modified(dir_x))\n",
    "\n",
    "new_log_table = pd.concat(frame_list, axis=0, ignore_index=True)\n",
    "\n",
    "query = \"\"\"\n",
    "SELECT *\n",
    "    FROM log_table\n",
    "\"\"\"\n",
    "\n",
    "previous_log_table = pd.read_sql_query(query, conn)\n",
    "previous_log_table['modified_time'] = pd.to_datetime(previous_log_table['modified_time'])\n",
    "\n",
    "diff_table = pd.concat([previous_log_table, new_log_table]).drop_duplicates(ignore_index=True, keep=False)\n",
    "keep_table = pd.concat([previous_log_table, diff_table, diff_table]).drop_duplicates(ignore_index=True, keep=False)\n",
    "remove_table = pd.concat([previous_log_table, keep_table]).drop_duplicates(ignore_index=True, keep=False)\n",
    "add_table = pd.concat([new_log_table, keep_table]).drop_duplicates(ignore_index=True, keep=False)"
   ]
  },
  {
   "cell_type": "code",
   "execution_count": 18,
   "metadata": {},
   "outputs": [],
   "source": [
    "from pandas.tseries.offsets import MonthEnd"
   ]
  },
  {
   "cell_type": "code",
   "execution_count": 59,
   "metadata": {},
   "outputs": [],
   "source": [
    "exrate = pd.read_excel(r'D:\\NMT\\OneDrive\\Viettravel Airline\\Database\\dim\\exchange_rate\\exchange_rate.xlsx')\n",
    "exrate['Buy_in_cash'].replace('-', 0, inplace=True)"
   ]
  },
  {
   "cell_type": "code",
   "execution_count": 62,
   "metadata": {},
   "outputs": [],
   "source": [
    "date_index = pd.date_range(start=exrate['Valid_date'].min(), end=exrate['Valid_date'].max() + MonthEnd(0))\n",
    "curr_code = exrate['Code'].unique()\n",
    "new_index = pd.MultiIndex.from_product([date_index, curr_code], names=['Valid_date', 'Code'])\n",
    "exrate_new = exrate.set_index(['Valid_date', 'Code'])\n",
    "exrate_new = exrate_new.reindex(new_index).reset_index().sort_values(by=['Code', 'Valid_date']).fillna(method='ffill').reset_index(drop=True)\n",
    "# exrate_new.to_excel('test.xlsx', index=False)"
   ]
  },
  {
   "cell_type": "code",
   "execution_count": 5,
   "metadata": {},
   "outputs": [],
   "source": [
    "from pandas.tseries.offsets import MonthEnd\n",
    "add_exchange_rate = pd.read_excel(r'D:\\NMT\\OneDrive\\Viettravel Airline\\Database\\dim\\exchange_rate\\exchange_rate.xlsx')"
   ]
  },
  {
   "cell_type": "code",
   "execution_count": 6,
   "metadata": {},
   "outputs": [],
   "source": [
    "date_index = pd.date_range(start=add_exchange_rate['Valid_date'].min(), end=add_exchange_rate['Valid_date'].max() + MonthEnd(0))\n",
    "curr_code = add_exchange_rate['Code'].unique()\n",
    "new_index = pd.MultiIndex.from_product([date_index, curr_code], names=['Valid_date', 'Code'])\n",
    "add_exchange_rate_new = add_exchange_rate.set_index(['Valid_date', 'Code'])\n",
    "add_exchange_rate = add_exchange_rate_new.reindex(new_index).reset_index().sort_values(by=['Code', 'Valid_date']).fillna(method='ffill').reset_index(drop=True)"
   ]
  },
  {
   "cell_type": "code",
   "execution_count": 4,
   "metadata": {},
   "outputs": [],
   "source": [
    "# import necessary materials\n",
    "import sqlite3\n",
    "import pandas as pd\n",
    "import glob\n",
    "import os\n",
    "from tqdm import tqdm\n",
    "import datetime\n",
    "from datetime import timedelta\n",
    "\n",
    "\n",
    "conn = sqlite3.connect(r\"D:\\NMT\\OneDrive\\Viettravel Airline\\Database\\VTA_RM.db\")\n",
    "c = conn.cursor()"
   ]
  },
  {
   "cell_type": "code",
   "execution_count": 7,
   "metadata": {},
   "outputs": [],
   "source": [
    "query = \"\"\"\n",
    "SELECT unique_flight_code, SUM(vu_revenue) AS revenue, COUNT(*) AS pax\n",
    "    FROM pax_revenue_PBI\n",
    "    WHERE departure_date >= '2022-09-01' AND departure_date < '2022-11-01'\n",
    "        AND fare_class_code IN ('I', 'Z')\n",
    "    GROUP BY unique_flight_code\n",
    "\"\"\"\n",
    "\n",
    "pd.read_sql_query(query, conn).to_excel('aaa.xlsx', index=False)"
   ]
  },
  {
   "cell_type": "code",
   "execution_count": 3,
   "metadata": {},
   "outputs": [
    {
     "ename": "DatabaseError",
     "evalue": "Execution failed on sql '\nSELECT *\n    FROM pax_revenue_PBI\n': no such table: pax_revenue_PBI",
     "output_type": "error",
     "traceback": [
      "\u001b[1;31m---------------------------------------------------------------------------\u001b[0m",
      "\u001b[1;31mOperationalError\u001b[0m                          Traceback (most recent call last)",
      "File \u001b[1;32mc:\\Users\\admin\\anaconda3\\envs\\VTA_RM\\lib\\site-packages\\pandas\\io\\sql.py:2020\u001b[0m, in \u001b[0;36mSQLiteDatabase.execute\u001b[1;34m(self, *args, **kwargs)\u001b[0m\n\u001b[0;32m   2019\u001b[0m \u001b[39mtry\u001b[39;00m:\n\u001b[1;32m-> 2020\u001b[0m     cur\u001b[39m.\u001b[39mexecute(\u001b[39m*\u001b[39margs, \u001b[39m*\u001b[39m\u001b[39m*\u001b[39mkwargs)\n\u001b[0;32m   2021\u001b[0m     \u001b[39mreturn\u001b[39;00m cur\n",
      "\u001b[1;31mOperationalError\u001b[0m: no such table: pax_revenue_PBI",
      "\nThe above exception was the direct cause of the following exception:\n",
      "\u001b[1;31mDatabaseError\u001b[0m                             Traceback (most recent call last)",
      "\u001b[1;32mc:\\Users\\admin\\Desktop\\VTA\\VTA_server\\test.ipynb Cell 9\u001b[0m in \u001b[0;36m<cell line: 6>\u001b[1;34m()\u001b[0m\n\u001b[0;32m      <a href='vscode-notebook-cell:/c%3A/Users/admin/Desktop/VTA/VTA_server/test.ipynb#X11sZmlsZQ%3D%3D?line=0'>1</a>\u001b[0m query \u001b[39m=\u001b[39m \u001b[39m\"\"\"\u001b[39m\n\u001b[0;32m      <a href='vscode-notebook-cell:/c%3A/Users/admin/Desktop/VTA/VTA_server/test.ipynb#X11sZmlsZQ%3D%3D?line=1'>2</a>\u001b[0m \u001b[39mSELECT *\u001b[39m\n\u001b[0;32m      <a href='vscode-notebook-cell:/c%3A/Users/admin/Desktop/VTA/VTA_server/test.ipynb#X11sZmlsZQ%3D%3D?line=2'>3</a>\u001b[0m \u001b[39m    FROM pax_revenue_PBI\u001b[39m\n\u001b[0;32m      <a href='vscode-notebook-cell:/c%3A/Users/admin/Desktop/VTA/VTA_server/test.ipynb#X11sZmlsZQ%3D%3D?line=3'>4</a>\u001b[0m \u001b[39m\"\"\"\u001b[39m\n\u001b[1;32m----> <a href='vscode-notebook-cell:/c%3A/Users/admin/Desktop/VTA/VTA_server/test.ipynb#X11sZmlsZQ%3D%3D?line=5'>6</a>\u001b[0m pd\u001b[39m.\u001b[39;49mread_sql_query(query, conn)\n",
      "File \u001b[1;32mc:\\Users\\admin\\anaconda3\\envs\\VTA_RM\\lib\\site-packages\\pandas\\io\\sql.py:399\u001b[0m, in \u001b[0;36mread_sql_query\u001b[1;34m(sql, con, index_col, coerce_float, params, parse_dates, chunksize, dtype)\u001b[0m\n\u001b[0;32m    341\u001b[0m \u001b[39m\"\"\"\u001b[39;00m\n\u001b[0;32m    342\u001b[0m \u001b[39mRead SQL query into a DataFrame.\u001b[39;00m\n\u001b[0;32m    343\u001b[0m \n\u001b[1;32m   (...)\u001b[0m\n\u001b[0;32m    396\u001b[0m \u001b[39mparameter will be converted to UTC.\u001b[39;00m\n\u001b[0;32m    397\u001b[0m \u001b[39m\"\"\"\u001b[39;00m\n\u001b[0;32m    398\u001b[0m pandas_sql \u001b[39m=\u001b[39m pandasSQL_builder(con)\n\u001b[1;32m--> 399\u001b[0m \u001b[39mreturn\u001b[39;00m pandas_sql\u001b[39m.\u001b[39;49mread_query(\n\u001b[0;32m    400\u001b[0m     sql,\n\u001b[0;32m    401\u001b[0m     index_col\u001b[39m=\u001b[39;49mindex_col,\n\u001b[0;32m    402\u001b[0m     params\u001b[39m=\u001b[39;49mparams,\n\u001b[0;32m    403\u001b[0m     coerce_float\u001b[39m=\u001b[39;49mcoerce_float,\n\u001b[0;32m    404\u001b[0m     parse_dates\u001b[39m=\u001b[39;49mparse_dates,\n\u001b[0;32m    405\u001b[0m     chunksize\u001b[39m=\u001b[39;49mchunksize,\n\u001b[0;32m    406\u001b[0m     dtype\u001b[39m=\u001b[39;49mdtype,\n\u001b[0;32m    407\u001b[0m )\n",
      "File \u001b[1;32mc:\\Users\\admin\\anaconda3\\envs\\VTA_RM\\lib\\site-packages\\pandas\\io\\sql.py:2080\u001b[0m, in \u001b[0;36mSQLiteDatabase.read_query\u001b[1;34m(self, sql, index_col, coerce_float, params, parse_dates, chunksize, dtype)\u001b[0m\n\u001b[0;32m   2068\u001b[0m \u001b[39mdef\u001b[39;00m \u001b[39mread_query\u001b[39m(\n\u001b[0;32m   2069\u001b[0m     \u001b[39mself\u001b[39m,\n\u001b[0;32m   2070\u001b[0m     sql,\n\u001b[1;32m   (...)\u001b[0m\n\u001b[0;32m   2076\u001b[0m     dtype: DtypeArg \u001b[39m|\u001b[39m \u001b[39mNone\u001b[39;00m \u001b[39m=\u001b[39m \u001b[39mNone\u001b[39;00m,\n\u001b[0;32m   2077\u001b[0m ):\n\u001b[0;32m   2079\u001b[0m     args \u001b[39m=\u001b[39m _convert_params(sql, params)\n\u001b[1;32m-> 2080\u001b[0m     cursor \u001b[39m=\u001b[39m \u001b[39mself\u001b[39;49m\u001b[39m.\u001b[39;49mexecute(\u001b[39m*\u001b[39;49margs)\n\u001b[0;32m   2081\u001b[0m     columns \u001b[39m=\u001b[39m [col_desc[\u001b[39m0\u001b[39m] \u001b[39mfor\u001b[39;00m col_desc \u001b[39min\u001b[39;00m cursor\u001b[39m.\u001b[39mdescription]\n\u001b[0;32m   2083\u001b[0m     \u001b[39mif\u001b[39;00m chunksize \u001b[39mis\u001b[39;00m \u001b[39mnot\u001b[39;00m \u001b[39mNone\u001b[39;00m:\n",
      "File \u001b[1;32mc:\\Users\\admin\\anaconda3\\envs\\VTA_RM\\lib\\site-packages\\pandas\\io\\sql.py:2032\u001b[0m, in \u001b[0;36mSQLiteDatabase.execute\u001b[1;34m(self, *args, **kwargs)\u001b[0m\n\u001b[0;32m   2029\u001b[0m     \u001b[39mraise\u001b[39;00m ex \u001b[39mfrom\u001b[39;00m \u001b[39minner_exc\u001b[39;00m\n\u001b[0;32m   2031\u001b[0m ex \u001b[39m=\u001b[39m DatabaseError(\u001b[39mf\u001b[39m\u001b[39m\"\u001b[39m\u001b[39mExecution failed on sql \u001b[39m\u001b[39m'\u001b[39m\u001b[39m{\u001b[39;00margs[\u001b[39m0\u001b[39m]\u001b[39m}\u001b[39;00m\u001b[39m'\u001b[39m\u001b[39m: \u001b[39m\u001b[39m{\u001b[39;00mexc\u001b[39m}\u001b[39;00m\u001b[39m\"\u001b[39m)\n\u001b[1;32m-> 2032\u001b[0m \u001b[39mraise\u001b[39;00m ex \u001b[39mfrom\u001b[39;00m \u001b[39mexc\u001b[39;00m\n",
      "\u001b[1;31mDatabaseError\u001b[0m: Execution failed on sql '\nSELECT *\n    FROM pax_revenue_PBI\n': no such table: pax_revenue_PBI"
     ]
    }
   ],
   "source": [
    "query = \"\"\"\n",
    "SELECT *\n",
    "    FROM pax_revenue_PBI\n",
    "\"\"\"\n",
    "\n",
    "pd.read_sql_query(query, conn)"
   ]
  }
 ],
 "metadata": {
  "kernelspec": {
   "display_name": "Python 3.9.12 ('VTA_RM')",
   "language": "python",
   "name": "python3"
  },
  "language_info": {
   "codemirror_mode": {
    "name": "ipython",
    "version": 3
   },
   "file_extension": ".py",
   "mimetype": "text/x-python",
   "name": "python",
   "nbconvert_exporter": "python",
   "pygments_lexer": "ipython3",
   "version": "3.9.12"
  },
  "orig_nbformat": 4,
  "vscode": {
   "interpreter": {
    "hash": "4b9e384aec62ae57b5f76b26318facd26f7d8e2315f3809fc741dc47f714fdba"
   }
  }
 },
 "nbformat": 4,
 "nbformat_minor": 2
}
