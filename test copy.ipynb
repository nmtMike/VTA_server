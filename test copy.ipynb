{
 "cells": [
  {
   "cell_type": "code",
   "execution_count": 40,
   "metadata": {},
   "outputs": [
    {
     "name": "stdout",
     "output_type": "stream",
     "text": [
      "19:05:45\n"
     ]
    }
   ],
   "source": [
    "import re\n",
    "k = '07:05:45PM'\n",
    "time_element = re.split(':', k)\n",
    "time_element[-1] = time_element[-1][:2]\n",
    "time_element.append(k[-2:])\n",
    "time_element\n",
    "hh = time_element[0]\n",
    "mm = time_element[1]\n",
    "ss = time_element[2]\n",
    "am_pm = time_element[3]\n",
    "\n",
    "if hh == '12' and am_pm == 'AM':\n",
    "    hh = '00'\n",
    "elif hh == '12' and am_pm == 'PM':\n",
    "    hh = '12'\n",
    "elif time_element[-1] == 'PM':\n",
    "    hh = str(int(hh) + 12)\n",
    "\n",
    "\n",
    "# s_24 = hh + ':' + mm + ':' + ss\n",
    "s_24 = ':'.join([hh, mm, ss])\n",
    "print(s_24)"
   ]
  },
  {
   "cell_type": "code",
   "execution_count": 30,
   "metadata": {},
   "outputs": [
    {
     "data": {
      "text/plain": [
       "'00001'"
      ]
     },
     "execution_count": 30,
     "metadata": {},
     "output_type": "execute_result"
    }
   ],
   "source": [
    "str(int(time_element[0])).zfill(5)"
   ]
  },
  {
   "cell_type": "code",
   "execution_count": 44,
   "metadata": {},
   "outputs": [
    {
     "data": {
      "text/plain": [
       "3"
      ]
     },
     "execution_count": 44,
     "metadata": {},
     "output_type": "execute_result"
    }
   ],
   "source": [
    "5//2 + 5%2"
   ]
  },
  {
   "cell_type": "code",
   "execution_count": 58,
   "metadata": {},
   "outputs": [
    {
     "name": "stdout",
     "output_type": "stream",
     "text": [
      "4\n"
     ]
    }
   ],
   "source": [
    "a = [1,2,3,4,3,2,1]\n",
    "occ = {}\n",
    "\n",
    "for element in a:\n",
    "    if element in occ:\n",
    "        occ[element] += 1\n",
    "    else:\n",
    "        occ[element] = 1\n",
    "\n",
    "for element, occ_time in occ.items():\n",
    "    if occ_time == 1:\n",
    "        return element"
   ]
  },
  {
   "cell_type": "code",
   "execution_count": 4,
   "metadata": {},
   "outputs": [
    {
     "name": "stdout",
     "output_type": "stream",
     "text": [
      "[[4, -96, -69], [47, 32, -57], [-72, 39, 64]]\n",
      "[4, 32, 64]\n",
      "[-72, 32, -69]\n"
     ]
    },
    {
     "data": {
      "text/plain": [
       "209"
      ]
     },
     "execution_count": 4,
     "metadata": {},
     "output_type": "execute_result"
    }
   ],
   "source": [
    "import random\n",
    "def create_square_matrix(n):\n",
    "    matrix = [[random.randint(-100, 100) for _ in range(n)] for _ in range(n)]\n",
    "    # num = 0\n",
    "    # for i in range(n):\n",
    "    #     for j in range(n):\n",
    "    #         matrix[i][j] = num\n",
    "    #         num += 1\n",
    "    return matrix\n",
    "\n",
    "arr = create_square_matrix(3)\n",
    "diagonal_1 = []\n",
    "diagonal_2 = []\n",
    "\n",
    "for i in range(len(arr)):\n",
    "    diagonal_1.append(arr[i][i])\n",
    "    diagonal_2.append(arr[-i-1][i])\n",
    "\n",
    "print(arr)\n",
    "print(diagonal_1)\n",
    "print(diagonal_2)\n",
    "abs(sum(diagonal_1) - sum(diagonal_2))"
   ]
  },
  {
   "cell_type": "code",
   "execution_count": 48,
   "metadata": {},
   "outputs": [
    {
     "name": "stdout",
     "output_type": "stream",
     "text": [
      "[70, 36, 6, 54, 21, 79, 37, 79, 70, 37, 87, 22, 3, 6, 18, 12, 58, 42, 78, 13, 22, 22, 18, 25, 94, 66, 77, 25, 80, 19, 52, 57, 19, 55, 32, 50, 5, 29, 39, 65, 97, 81, 96, 71, 91, 66, 85, 59, 44, 89, 24, 69, 35, 7, 0, 97, 56, 62, 89, 38, 98, 87, 16, 27, 59, 25, 1, 98, 37, 63, 29, 96, 15, 1, 61, 4, 97, 89, 17, 59, 47, 51, 89, 4, 16, 90, 46, 26, 87, 41, 12, 11, 92, 22, 43, 77, 10, 41, 60, 81]\n",
      "[1, 2, 0, 1, 2, 1, 2, 1, 0, 0, 1, 1, 2, 1, 0, 1, 2, 1, 2, 2, 0, 1, 4, 0, 1, 3, 1, 1, 0, 2, 0, 0, 1, 0, 0, 1, 1, 3, 1, 1, 0, 2, 1, 1, 1, 0, 1, 1, 0, 0, 1, 1, 1, 0, 1, 1, 1, 1, 1, 3, 1, 1, 1, 1, 0, 1, 2, 0, 0, 1, 2, 1, 0, 0, 0, 0, 0, 2, 1, 2, 1, 2, 0, 0, 0, 1, 0, 3, 0, 4, 1, 1, 1, 0, 1, 0, 2, 3, 2]\n"
     ]
    },
    {
     "data": {
      "text/plain": [
       "99"
      ]
     },
     "execution_count": 48,
     "metadata": {},
     "output_type": "execute_result"
    }
   ],
   "source": [
    "import random\n",
    "n = 100\n",
    "arr = [random.randint(0, 99) for i in range(n)]\n",
    "arr\n",
    "\n",
    "\n",
    "result = [0 for i in range(max(arr)+1)]\n",
    "for i in arr:\n",
    "    result[i] += 1\n",
    "\n",
    "# sorted_arr = []\n",
    "# for i in range(len(result)):\n",
    "#     if result[i] != 0:\n",
    "#         for j in range(1, result[i]+1):\n",
    "#             sorted_arr.append(i)\n",
    "\n",
    "print(arr)\n",
    "print(result)\n",
    "# print(sorted_arr)"
   ]
  },
  {
   "cell_type": "code",
   "execution_count": 17,
   "metadata": {},
   "outputs": [
    {
     "data": {
      "text/plain": [
       "414"
      ]
     },
     "execution_count": 17,
     "metadata": {},
     "output_type": "execute_result"
    }
   ],
   "source": [
    "matrix = [[112, 42, 83, 119],\n",
    "          [56, 125, 56, 49],\n",
    "          [15, 78, 101, 43],\n",
    "          [62, 98, 114, 108]]\n",
    "#  output should be 414\n",
    "\n",
    "n_2 = len(matrix)\n",
    "n_1 = int(n_2/2)\n",
    "sum_target = 0\n",
    "\n",
    "# ______________________________________________________________________________________________________________________________\n",
    "# def reverse_column(matrix_m, col_index):\n",
    "#     m_copy = [row[:] for row in matrix_m]\n",
    "#     n = len(m_copy) // 2\n",
    "#     for i in range(n):\n",
    "#         m_copy[i][col_index], m_copy[2*n-1-i][col_index] = m_copy[2*n-1-i][col_index], m_copy[i][col_index]\n",
    "#     return m_copy\n",
    "\n",
    "# def reverse_row(matrix_m, row_index):\n",
    "#     m_copy = [row[:] for row in matrix_m]\n",
    "#     m_copy[row_index] = m_copy[row_index][::-1]\n",
    "#     return m_copy\n",
    "\n",
    "# def sum_submatrix_upper_left(matrix_m, n=n_1):\n",
    "#     total_sum = 0\n",
    "#     for i in range(n):\n",
    "#         for j in range(n):\n",
    "#             total_sum += matrix_m[i][j]\n",
    "#     return total_sum\n",
    "# ______________________________________________________________________________________________________________________________\n",
    "\n",
    "\n",
    "sub_max = 0\n",
    "for i in range(n_1):\n",
    "    for j in range(n_1):\n",
    "        sub_max += max([matrix[i][j], matrix[i][-j-1], matrix[-i-1][j], matrix[-i-1][-j-1]])\n",
    "\n",
    "sub_max\n",
    "\n"
   ]
  },
  {
   "cell_type": "code",
   "execution_count": 5,
   "metadata": {},
   "outputs": [
    {
     "data": {
      "text/plain": [
       "7"
      ]
     },
     "execution_count": 5,
     "metadata": {},
     "output_type": "execute_result"
    }
   ],
   "source": [
    "a = [1,2,3,4,5,6,7]\n",
    "n = len(a)\n",
    "n"
   ]
  },
  {
   "cell_type": "code",
   "execution_count": 10,
   "metadata": {},
   "outputs": [
    {
     "name": "stdout",
     "output_type": "stream",
     "text": [
      "1 2 3 7 6 5 4\n"
     ]
    }
   ],
   "source": [
    "a.sort()\n",
    "mid = int((n + 1)/2) - 1\n",
    "a[mid], a[n-1] = a[n-1], a[mid]\n",
    "\n",
    "st = mid + 1\n",
    "ed = n - 2\n",
    "while(st <= ed):\n",
    "    a[st], a[ed] = a[ed], a[st]\n",
    "    st = st + 1\n",
    "    ed = ed - 1\n",
    "\n",
    "for i in range (n):\n",
    "    if i == n-1:\n",
    "        print(a[i])\n",
    "    else:\n",
    "        print(a[i], end = ' ')"
   ]
  },
  {
   "cell_type": "code",
   "execution_count": 40,
   "metadata": {},
   "outputs": [
    {
     "name": "stdout",
     "output_type": "stream",
     "text": [
      "b\n"
     ]
    }
   ],
   "source": [
    "def change_alphabet(s:str, k:int = 0):\n",
    "    if s.isalpha():\n",
    "        char_code = ord(s)\n",
    "        if s.islower():\n",
    "            next_char_code = (char_code - ord('a') + k) % 26 + ord('a')\n",
    "        else:\n",
    "            next_char_code = (char_code - ord('A') + k) % 26 + ord('A')\n",
    "        return chr(next_char_code)\n",
    "    else:\n",
    "        return s\n",
    "    \n",
    "\n",
    "def change_alphabet_ASCII(s:str, k:int = 2):\n",
    "    if s.isalpha():\n",
    "        char_code = ord(s)\n",
    "        if s.islower():\n",
    "            next_char_code = char_code + k if char_code <= (122 - k) else char_code - (26 - k)\n",
    "            return chr(next_char_code)\n",
    "        else:\n",
    "            next_char_code = char_code + k if char_code <= (90 - k) else char_code - (26 - k)\n",
    "            return chr(next_char_code)\n",
    "    else:\n",
    "        return s\n",
    "\n",
    "\n",
    "\n",
    "\n",
    "def caesarCipher(s, k):\n",
    "    result = \"\"\n",
    " \n",
    "    # traverse text\n",
    "    for i in range(len(s)):\n",
    "        char = s[i]\n",
    "        \n",
    "        if char.isalpha():\n",
    "            # Encrypt uppercase characters\n",
    "            if (char.isupper()):\n",
    "                result += chr((ord(char) + k-65) % 26 + 65)\n",
    "    \n",
    "            # Encrypt lowercase characters\n",
    "            else:\n",
    "                result += chr((ord(char) + k - 97) % 26 + 97)\n",
    "        else: result += char\n",
    "    return result"
   ]
  },
  {
   "cell_type": "code",
   "execution_count": 50,
   "metadata": {},
   "outputs": [
    {
     "data": {
      "text/plain": [
       "True"
      ]
     },
     "execution_count": 50,
     "metadata": {},
     "output_type": "execute_result"
    }
   ],
   "source": [
    "def palindrome_check(st:str):\n",
    "    if st[::-1] == st:\n",
    "        return True\n",
    "    else: return False\n",
    "\n",
    "palindrome_check('aba')"
   ]
  },
  {
   "cell_type": "code",
   "execution_count": 52,
   "metadata": {},
   "outputs": [
    {
     "name": "stdout",
     "output_type": "stream",
     "text": [
      "None\n"
     ]
    }
   ],
   "source": [
    "def palindromeIndex(s):\n",
    "    # Write your code here\n",
    "    \n",
    "    # check palindrome function\n",
    "    def palindrome_check(st:str):\n",
    "        if st[::-1] == st:\n",
    "            return True\n",
    "        else: return False\n",
    "    \n",
    "    # check the string is already palindrome or not\n",
    "    if palindrome_check(s):\n",
    "        return -1\n",
    "    # if not, try remove index\n",
    "    else:\n",
    "        for i in range(len(s)):\n",
    "            new_s = s[:i] + s[i+1:]\n",
    "            if palindrome_check(new_s):\n",
    "                return i\n",
    "            \n",
    "\n",
    "print(palindromeIndex('fkjdshfu'))"
   ]
  },
  {
   "cell_type": "code",
   "execution_count": 55,
   "metadata": {},
   "outputs": [
    {
     "name": "stdout",
     "output_type": "stream",
     "text": [
      "bcdefg\n",
      "acdefg\n",
      "abdefg\n",
      "abcefg\n",
      "abcdfg\n",
      "abcdeg\n",
      "abcdef\n"
     ]
    }
   ],
   "source": [
    "def palindromeIndex(s):\n",
    "    # Write your code here\n",
    "    def is_palindrome(string):\n",
    "        return string == string[::-1]\n",
    "    \n",
    "    left = 0\n",
    "    right = len(s) - 1\n",
    "\n",
    "    while left < right:\n",
    "        if s[left] != s[right]:\n",
    "            if is_palindrome(s[left:right]):\n",
    "                return right\n",
    "            elif is_palindrome(s[left+1:right+1]):\n",
    "                return left\n",
    "            else:\n",
    "                return -1\n",
    "\n",
    "        left += 1\n",
    "        right -= 1\n",
    "\n",
    "    return -1"
   ]
  }
 ],
 "metadata": {
  "kernelspec": {
   "display_name": "Python 3.9.12 ('VTA_RM_env')",
   "language": "python",
   "name": "python3"
  },
  "language_info": {
   "codemirror_mode": {
    "name": "ipython",
    "version": 3
   },
   "file_extension": ".py",
   "mimetype": "text/x-python",
   "name": "python",
   "nbconvert_exporter": "python",
   "pygments_lexer": "ipython3",
   "version": "3.9.12"
  },
  "orig_nbformat": 4,
  "vscode": {
   "interpreter": {
    "hash": "6adb8717c4d0a5bbc833609db47a0d4a022aa11119d5859c7607f3701f1e243a"
   }
  }
 },
 "nbformat": 4,
 "nbformat_minor": 2
}
